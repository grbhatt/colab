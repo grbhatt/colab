{
  "nbformat": 4,
  "nbformat_minor": 0,
  "metadata": {
    "colab": {
      "name": "CNN.ipynb",
      "provenance": [],
      "authorship_tag": "ABX9TyPGR5RzZzE4VBFLsQAGxfim",
      "include_colab_link": true
    },
    "kernelspec": {
      "name": "python3",
      "display_name": "Python 3"
    },
    "language_info": {
      "name": "python"
    }
  },
  "cells": [
    {
      "cell_type": "markdown",
      "metadata": {
        "id": "view-in-github",
        "colab_type": "text"
      },
      "source": [
        "<a href=\"https://colab.research.google.com/github/grbhatt/colab/blob/main/CNN.ipynb\" target=\"_parent\"><img src=\"https://colab.research.google.com/assets/colab-badge.svg\" alt=\"Open In Colab\"/></a>"
      ]
    },
    {
      "cell_type": "code",
      "metadata": {
        "id": "qG3rE6c6pOe9"
      },
      "source": [
        "import tensorflow as tf\n",
        "from tensorflow.keras import datasets,layers,models\n",
        "import matplotlib.pyplot as plt\n",
        "import numpy as np"
      ],
      "execution_count": 2,
      "outputs": []
    },
    {
      "cell_type": "code",
      "metadata": {
        "colab": {
          "base_uri": "https://localhost:8080/"
        },
        "id": "AnN-Zx4uproQ",
        "outputId": "28d0b70c-f22f-4da0-85f1-ecc22c9fd616"
      },
      "source": [
        "(X_train,y_train),(X_test,y_test) = datasets.cifar10.load_data()\n",
        "X_train.shape"
      ],
      "execution_count": 3,
      "outputs": [
        {
          "output_type": "stream",
          "name": "stdout",
          "text": [
            "Downloading data from https://www.cs.toronto.edu/~kriz/cifar-10-python.tar.gz\n",
            "170500096/170498071 [==============================] - 4s 0us/step\n",
            "170508288/170498071 [==============================] - 4s 0us/step\n"
          ]
        },
        {
          "output_type": "execute_result",
          "data": {
            "text/plain": [
              "(50000, 32, 32, 3)"
            ]
          },
          "metadata": {},
          "execution_count": 3
        }
      ]
    },
    {
      "cell_type": "code",
      "metadata": {
        "colab": {
          "base_uri": "https://localhost:8080/"
        },
        "id": "Scj0QT5jqabo",
        "outputId": "f56445de-1329-4baf-a6e8-d0bf1d3e6562"
      },
      "source": [
        "X_test.shape"
      ],
      "execution_count": 4,
      "outputs": [
        {
          "output_type": "execute_result",
          "data": {
            "text/plain": [
              "(10000, 32, 32, 3)"
            ]
          },
          "metadata": {},
          "execution_count": 4
        }
      ]
    },
    {
      "cell_type": "code",
      "metadata": {
        "colab": {
          "base_uri": "https://localhost:8080/"
        },
        "id": "sDkw_04OsFYN",
        "outputId": "ff02e7e5-e8b1-4808-8e97-b2e34b1896d9"
      },
      "source": [
        "y_train.shape"
      ],
      "execution_count": 5,
      "outputs": [
        {
          "output_type": "execute_result",
          "data": {
            "text/plain": [
              "(50000, 1)"
            ]
          },
          "metadata": {},
          "execution_count": 5
        }
      ]
    },
    {
      "cell_type": "code",
      "metadata": {
        "colab": {
          "base_uri": "https://localhost:8080/"
        },
        "id": "6dGSrneQsLAA",
        "outputId": "c13609d3-cfcb-432a-ae3a-9ab980726694"
      },
      "source": [
        "y_train[:3]"
      ],
      "execution_count": 6,
      "outputs": [
        {
          "output_type": "execute_result",
          "data": {
            "text/plain": [
              "array([[6],\n",
              "       [9],\n",
              "       [9]], dtype=uint8)"
            ]
          },
          "metadata": {},
          "execution_count": 6
        }
      ]
    },
    {
      "cell_type": "code",
      "metadata": {
        "colab": {
          "base_uri": "https://localhost:8080/"
        },
        "id": "CqLwROL0sP25",
        "outputId": "20d42676-da71-405e-9ea4-27b9ccd469da"
      },
      "source": [
        "y_train = y_train.reshape(-1,)\n",
        "y_train.shape"
      ],
      "execution_count": 7,
      "outputs": [
        {
          "output_type": "execute_result",
          "data": {
            "text/plain": [
              "(50000,)"
            ]
          },
          "metadata": {},
          "execution_count": 7
        }
      ]
    },
    {
      "cell_type": "code",
      "metadata": {
        "id": "ReKSmzDmrY0t"
      },
      "source": [
        "classes = ['airplane','automobile','bird','cat','deer','dog','frog','horse','ship','truck']"
      ],
      "execution_count": 8,
      "outputs": []
    },
    {
      "cell_type": "code",
      "metadata": {
        "id": "_B7ikJ0Kqdqk"
      },
      "source": [
        "def plot_sample(X,y,index):\n",
        "    plt.figure(figsize  = (15,2))\n",
        "    plt.imshow(X[index])\n",
        "    plt.xlabel(classes[y[index]])"
      ],
      "execution_count": 9,
      "outputs": []
    },
    {
      "cell_type": "code",
      "metadata": {
        "colab": {
          "base_uri": "https://localhost:8080/",
          "height": 173
        },
        "id": "66ZEwhuOs09T",
        "outputId": "f44d986c-ab7f-424b-9f59-89fdfb0644c5"
      },
      "source": [
        "plot_sample(X_train,y_train,45)"
      ],
      "execution_count": 10,
      "outputs": [
        {
          "output_type": "display_data",
          "data": {
            "image/png": "[encoded data removed]",
            "text/plain": [
              "<Figure size 1080x144 with 1 Axes>"
            ]
          },
          "metadata": {
            "needs_background": "light"
          }
        }
      ]
    },
    {
      "cell_type": "code",
      "metadata": {
        "id": "JgYUNT2wq406"
      },
      "source": [
        "X_train = X_train / 255\n",
        "X_test = X_test / 255"
      ],
      "execution_count": 11,
      "outputs": []
    },
    {
      "cell_type": "code",
      "metadata": {
        "colab": {
          "base_uri": "https://localhost:8080/"
        },
        "id": "L6TaqVp5vFJV",
        "outputId": "70b6685e-0f17-4cd7-fd2d-41a11c21acc7"
      },
      "source": [
        "ann = models.Sequential([\n",
        "            layers.Flatten(input_shape = (32,32,3)),\n",
        "            layers.Dense(1000,activation = 'relu'),\n",
        "            layers.Dense(1000,activation= 'relu'),\n",
        "            layers.Dense(10,activation='sigmoid')\n",
        "])\n",
        "\n",
        "ann.compile(optimizer = 'SGD',\n",
        "      loss = 'sparse_categorical_crossentropy',\n",
        "      metrics = ['accuracy']\n",
        ")\n",
        "\n",
        "ann.fit(X_train,y_train,epochs = 5)"
      ],
      "execution_count": 12,
      "outputs": [
        {
          "output_type": "stream",
          "name": "stdout",
          "text": [
            "Epoch 1/5\n",
            "1563/1563 [==============================] - 33s 21ms/step - loss: 1.8398 - accuracy: 0.3439\n",
            "Epoch 2/5\n",
            "1563/1563 [==============================] - 32s 21ms/step - loss: 1.6527 - accuracy: 0.4152\n",
            "Epoch 3/5\n",
            "1563/1563 [==============================] - 31s 20ms/step - loss: 1.5693 - accuracy: 0.4444\n",
            "Epoch 4/5\n",
            "1563/1563 [==============================] - 31s 20ms/step - loss: 1.5114 - accuracy: 0.4660\n",
            "Epoch 5/5\n",
            "1563/1563 [==============================] - 31s 20ms/step - loss: 1.4622 - accuracy: 0.4845\n"
          ]
        },
        {
          "output_type": "execute_result",
          "data": {
            "text/plain": [
              "<keras.callbacks.History at 0x7fced0657450>"
            ]
          },
          "metadata": {},
          "execution_count": 12
        }
      ]
    },
    {
      "cell_type": "code",
      "metadata": {
        "colab": {
          "base_uri": "https://localhost:8080/"
        },
        "id": "Tsol6RtnxOa7",
        "outputId": "02b9f6f6-ecb5-4292-8a9c-1752c0861cd2"
      },
      "source": [
        "ann.evaluate(X_test,y_test)"
      ],
      "execution_count": 13,
      "outputs": [
        {
          "output_type": "stream",
          "name": "stdout",
          "text": [
            "313/313 [==============================] - 3s 8ms/step - loss: 1.4998 - accuracy: 0.4633\n"
          ]
        },
        {
          "output_type": "execute_result",
          "data": {
            "text/plain": [
              "[1.4998319149017334, 0.4632999897003174]"
            ]
          },
          "metadata": {},
          "execution_count": 13
        }
      ]
    },
    {
      "cell_type": "code",
      "metadata": {
        "colab": {
          "base_uri": "https://localhost:8080/"
        },
        "id": "a_pIQdBjxVjy",
        "outputId": "42322325-01cc-4cd2-9c1c-c2563945d7ee"
      },
      "source": [
        "from sklearn.metrics import confusion_matrix,classification_report\n",
        "\n",
        "y_pred = ann.predict(X_test)\n",
        "y_pred_classes = [np.argmax(element) for element in y_pred]\n",
        "\n",
        "print('Classification Report: \\n', classification_report(y_test,y_pred_classes))"
      ],
      "execution_count": 14,
      "outputs": [
        {
          "output_type": "stream",
          "name": "stdout",
          "text": [
            "Classification Report: \n",
            "               precision    recall  f1-score   support\n",
            "\n",
            "           0       0.47      0.54      0.50      1000\n",
            "           1       0.48      0.69      0.57      1000\n",
            "           2       0.43      0.25      0.32      1000\n",
            "           3       0.38      0.28      0.32      1000\n",
            "           4       0.49      0.32      0.39      1000\n",
            "           5       0.39      0.38      0.38      1000\n",
            "           6       0.48      0.57      0.52      1000\n",
            "           7       0.61      0.45      0.52      1000\n",
            "           8       0.42      0.78      0.55      1000\n",
            "           9       0.55      0.37      0.44      1000\n",
            "\n",
            "    accuracy                           0.46     10000\n",
            "   macro avg       0.47      0.46      0.45     10000\n",
            "weighted avg       0.47      0.46      0.45     10000\n",
            "\n"
          ]
        }
      ]
    },
    {
      "cell_type": "code",
      "metadata": {
        "id": "gGk9sdiMybpU"
      },
      "source": [
        "cnn = models.Sequential([\n",
        "                         \n",
        "            #cnn\n",
        "            layers.Conv2D(filters = 32, kernel_size  = (3,3),activation  ='relu',input_shape = (32,32,3)),\n",
        "            layers.MaxPooling2D((2,2)),\n",
        "\n",
        "            layers.Conv2D(filters = 64, kernel_size  = (3,3),activation  ='relu'),\n",
        "            layers.MaxPooling2D((2,2)),\n",
        "            #dense\n",
        "\n",
        "\n",
        "            layers.Flatten(),\n",
        "            \n",
        "            layers.Dense(1000,activation= 'relu'),\n",
        "            layers.Dense(10,activation='softmax')#softmax will normalize the probability.\n",
        "            # for sigmoid if value is 0.45 and 0.67 and for softmax that value become to (0.45/(0.45+0.67)) and (0.67/(0.45 + 0.67)), sum of value is 1.\n",
        "])"
      ],
      "execution_count": 33,
      "outputs": []
    },
    {
      "cell_type": "code",
      "metadata": {
        "id": "D76WGmfYy53M"
      },
      "source": [
        "cnn.compile(optimizer = 'adam',\n",
        "      loss = 'sparse_categorical_crossentropy',\n",
        "      metrics = ['accuracy']\n",
        ")"
      ],
      "execution_count": 20,
      "outputs": []
    },
    {
      "cell_type": "code",
      "metadata": {
        "colab": {
          "base_uri": "https://localhost:8080/"
        },
        "id": "gf_ovDkNzjXc",
        "outputId": "b27d5ce3-39b5-4a3a-bd59-983168dc4fb8"
      },
      "source": [
        "cnn.fit(X_train,y_train,epochs = 10)"
      ],
      "execution_count": 21,
      "outputs": [
        {
          "output_type": "stream",
          "name": "stdout",
          "text": [
            "Epoch 1/10\n",
            "1563/1563 [==============================] - 84s 53ms/step - loss: 1.3601 - accuracy: 0.5115\n",
            "Epoch 2/10\n",
            "1563/1563 [==============================] - 83s 53ms/step - loss: 0.9809 - accuracy: 0.6548\n",
            "Epoch 3/10\n",
            "1563/1563 [==============================] - 84s 54ms/step - loss: 0.7925 - accuracy: 0.7224\n",
            "Epoch 4/10\n",
            "1563/1563 [==============================] - 84s 54ms/step - loss: 0.6253 - accuracy: 0.7809\n",
            "Epoch 5/10\n",
            "1563/1563 [==============================] - 84s 53ms/step - loss: 0.4641 - accuracy: 0.8380\n",
            "Epoch 6/10\n",
            "1563/1563 [==============================] - 84s 54ms/step - loss: 0.3184 - accuracy: 0.8892\n",
            "Epoch 7/10\n",
            "1563/1563 [==============================] - 84s 54ms/step - loss: 0.2108 - accuracy: 0.9280\n",
            "Epoch 8/10\n",
            "1563/1563 [==============================] - 84s 54ms/step - loss: 0.1461 - accuracy: 0.9513\n",
            "Epoch 9/10\n",
            "1563/1563 [==============================] - 84s 54ms/step - loss: 0.1146 - accuracy: 0.9609\n",
            "Epoch 10/10\n",
            "1563/1563 [==============================] - 83s 53ms/step - loss: 0.0983 - accuracy: 0.9683\n"
          ]
        },
        {
          "output_type": "execute_result",
          "data": {
            "text/plain": [
              "<keras.callbacks.History at 0x7fcecc5ac810>"
            ]
          },
          "metadata": {},
          "execution_count": 21
        }
      ]
    },
    {
      "cell_type": "code",
      "metadata": {
        "colab": {
          "base_uri": "https://localhost:8080/"
        },
        "id": "9W_m2esez1cr",
        "outputId": "de387774-a356-450f-f17c-d71146e31fad"
      },
      "source": [
        "cnn.evaluate(X_test,y_test)"
      ],
      "execution_count": 22,
      "outputs": [
        {
          "output_type": "stream",
          "name": "stdout",
          "text": [
            "313/313 [==============================] - 4s 14ms/step - loss: 1.7002 - accuracy: 0.7031\n"
          ]
        },
        {
          "output_type": "execute_result",
          "data": {
            "text/plain": [
              "[1.700196623802185, 0.7031000256538391]"
            ]
          },
          "metadata": {},
          "execution_count": 22
        }
      ]
    },
    {
      "cell_type": "code",
      "metadata": {
        "id": "Mc4YzqFYz6ug"
      },
      "source": [
        "y_test = y_test.reshape(-1, )"
      ],
      "execution_count": 23,
      "outputs": []
    },
    {
      "cell_type": "code",
      "metadata": {
        "colab": {
          "base_uri": "https://localhost:8080/",
          "height": 173
        },
        "id": "0JxV01SE03uW",
        "outputId": "0ef33569-817d-40de-b104-d68e9269c57c"
      },
      "source": [
        "plot_sample(X_test,y_test,1)"
      ],
      "execution_count": 24,
      "outputs": [
        {
          "output_type": "display_data",
          "data": {
            "image/png": "[encoded data removed]",
            "text/plain": [
              "<Figure size 1080x144 with 1 Axes>"
            ]
          },
          "metadata": {
            "needs_background": "light"
          }
        }
      ]
    },
    {
      "cell_type": "code",
      "metadata": {
        "colab": {
          "base_uri": "https://localhost:8080/"
        },
        "id": "PJJorVwP1Mss",
        "outputId": "3b997c6b-bb55-4cd7-ccc5-65f864e37a16"
      },
      "source": [
        "y_pred  = cnn.predict(X_test)\n",
        "y_pred[:1]"
      ],
      "execution_count": 25,
      "outputs": [
        {
          "output_type": "execute_result",
          "data": {
            "text/plain": [
              "array([[2.0034999e-05, 1.7183097e-06, 3.6585470e-06, 4.4485647e-02,\n",
              "        9.8929054e-10, 9.5545280e-01, 2.5214427e-05, 3.0448010e-07,\n",
              "        1.0721089e-05, 2.0215851e-09]], dtype=float32)"
            ]
          },
          "metadata": {},
          "execution_count": 25
        }
      ]
    },
    {
      "cell_type": "code",
      "metadata": {
        "colab": {
          "base_uri": "https://localhost:8080/"
        },
        "id": "V4qKcRLW1Y7M",
        "outputId": "7f80d6b0-d7e1-44da-b2fa-f0c603548abe"
      },
      "source": [
        "y_classes = [np.argmax(element) for element in y_pred]\n",
        "y_classes[:5]"
      ],
      "execution_count": 26,
      "outputs": [
        {
          "output_type": "execute_result",
          "data": {
            "text/plain": [
              "[5, 8, 8, 0, 4]"
            ]
          },
          "metadata": {},
          "execution_count": 26
        }
      ]
    },
    {
      "cell_type": "code",
      "metadata": {
        "colab": {
          "base_uri": "https://localhost:8080/"
        },
        "id": "r3dF-Ir22Hd-",
        "outputId": "a82d3d7f-8349-47e3-cbb5-3607bc3deb6a"
      },
      "source": [
        "y_test[:5]"
      ],
      "execution_count": 27,
      "outputs": [
        {
          "output_type": "execute_result",
          "data": {
            "text/plain": [
              "array([3, 8, 8, 0, 6], dtype=uint8)"
            ]
          },
          "metadata": {},
          "execution_count": 27
        }
      ]
    },
    {
      "cell_type": "code",
      "metadata": {
        "colab": {
          "base_uri": "https://localhost:8080/",
          "height": 173
        },
        "id": "fsafxVHO2Klv",
        "outputId": "b22a440b-27f5-4503-cbf2-fad17279ed52"
      },
      "source": [
        "plot_sample(X_test,y_test,1)"
      ],
      "execution_count": 28,
      "outputs": [
        {
          "output_type": "display_data",
          "data": {
            "image/png": "[encoded data removed]",
            "text/plain": [
              "<Figure size 1080x144 with 1 Axes>"
            ]
          },
          "metadata": {
            "needs_background": "light"
          }
        }
      ]
    },
    {
      "cell_type": "code",
      "metadata": {
        "colab": {
          "base_uri": "https://localhost:8080/",
          "height": 35
        },
        "id": "zdWX3bky2eXb",
        "outputId": "2b53b937-78c2-43fd-a0cf-f4957480e26f"
      },
      "source": [
        "classes[y_classes[1]]"
      ],
      "execution_count": 29,
      "outputs": [
        {
          "output_type": "execute_result",
          "data": {
            "application/vnd.google.colaboratory.intrinsic+json": {
              "type": "string"
            },
            "text/plain": [
              "'ship'"
            ]
          },
          "metadata": {},
          "execution_count": 29
        }
      ]
    },
    {
      "cell_type": "code",
      "metadata": {
        "colab": {
          "base_uri": "https://localhost:8080/"
        },
        "id": "qIHLlT2T2lIs",
        "outputId": "efcfd69c-b9b5-4398-db35-dddf0ee49eea"
      },
      "source": [
        "print('Classification Report : \\n',classification_report(y_test,y_classes))"
      ],
      "execution_count": 30,
      "outputs": [
        {
          "output_type": "stream",
          "name": "stdout",
          "text": [
            "Classification Report : \n",
            "               precision    recall  f1-score   support\n",
            "\n",
            "           0       0.71      0.79      0.75      1000\n",
            "           1       0.85      0.76      0.80      1000\n",
            "           2       0.73      0.48      0.58      1000\n",
            "           3       0.48      0.56      0.52      1000\n",
            "           4       0.69      0.64      0.66      1000\n",
            "           5       0.61      0.60      0.60      1000\n",
            "           6       0.76      0.81      0.79      1000\n",
            "           7       0.76      0.78      0.77      1000\n",
            "           8       0.85      0.74      0.79      1000\n",
            "           9       0.68      0.87      0.76      1000\n",
            "\n",
            "    accuracy                           0.70     10000\n",
            "   macro avg       0.71      0.70      0.70     10000\n",
            "weighted avg       0.71      0.70      0.70     10000\n",
            "\n"
          ]
        }
      ]
    }
  ]
}